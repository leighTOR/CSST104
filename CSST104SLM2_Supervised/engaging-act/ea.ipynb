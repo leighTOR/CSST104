{
 "cells": [
  {
   "cell_type": "code",
   "execution_count": 9,
   "metadata": {},
   "outputs": [
    {
     "data": {
      "text/plain": [
       "array([[3.84040599e-13, 1.00000000e+00],\n",
       "       [5.98963032e-01, 4.01036968e-01],\n",
       "       [1.24239985e-03, 9.98757600e-01],\n",
       "       [7.88790336e-01, 2.11209664e-01],\n",
       "       [9.86412550e-01, 1.35874499e-02],\n",
       "       [2.40351221e-01, 7.59648779e-01],\n",
       "       [9.60299056e-01, 3.97009444e-02],\n",
       "       [4.36476022e-01, 5.63523978e-01],\n",
       "       [3.51680245e-01, 6.48319755e-01],\n",
       "       [2.74460135e-02, 9.72553987e-01]])"
      ]
     },
     "execution_count": 9,
     "metadata": {},
     "output_type": "execute_result"
    }
   ],
   "source": [
    "import pandas as pd\n",
    "df = pd.read_csv(\"pima-indians-diabetes.csv\")\n",
    "df.head()\n",
    "target = df['Class variable (0 or 1)']\n",
    "inputs = df.drop('Class variable (0 or 1)', axis='columns')\n",
    "inputs.columns[inputs.isna().any()]\n",
    "from sklearn.model_selection import train_test_split\n",
    "X_train, X_test, y_train, y_test = train_test_split(inputs,target,test_size=0.2)\n",
    "len(X_train)\n",
    "len(X_test)\n",
    "len(inputs)\n",
    "from sklearn.naive_bayes import GaussianNB\n",
    "model = GaussianNB()\n",
    "model.fit(X_train, y_train)\n",
    "model.score(X_test,y_test)\n",
    "X_test[:10]\n",
    "y_test[:10]\n",
    "model.predict(X_test[:10])\n",
    "model.predict_proba(X_test[:10])"
   ]
  }
 ],
 "metadata": {
  "kernelspec": {
   "display_name": "Python 3",
   "language": "python",
   "name": "python3"
  },
  "language_info": {
   "codemirror_mode": {
    "name": "ipython",
    "version": 3
   },
   "file_extension": ".py",
   "mimetype": "text/x-python",
   "name": "python",
   "nbconvert_exporter": "python",
   "pygments_lexer": "ipython3",
   "version": "3.11.5"
  }
 },
 "nbformat": 4,
 "nbformat_minor": 2
}
